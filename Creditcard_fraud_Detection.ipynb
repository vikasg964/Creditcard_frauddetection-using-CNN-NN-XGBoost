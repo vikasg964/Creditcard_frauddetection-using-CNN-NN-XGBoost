{
  "nbformat": 4,
  "nbformat_minor": 0,
  "metadata": {
    "colab": {
      "name": "Creditcard_fraud_Detection.ipynb",
      "provenance": [],
      "collapsed_sections": [],
      "authorship_tag": "ABX9TyOhJtfSgY0s8WS8Tx/v5X13",
      "include_colab_link": true
    },
    "kernelspec": {
      "name": "python3",
      "display_name": "Python 3"
    }
  },
  "cells": [
    {
      "cell_type": "markdown",
      "metadata": {
        "id": "view-in-github",
        "colab_type": "text"
      },
      "source": [
        "<a href=\"https://colab.research.google.com/github/vikasg964/Creditcard_frauddetection-using-CNN-NN-XGBoost/blob/main/Creditcard_fraud_Detection.ipynb\" target=\"_parent\"><img src=\"https://colab.research.google.com/assets/colab-badge.svg\" alt=\"Open In Colab\"/></a>"
      ]
    },
    {
      "cell_type": "markdown",
      "metadata": {
        "id": "ek9qX1e8Jh6_"
      },
      "source": [
        "Imports"
      ]
    },
    {
      "cell_type": "code",
      "metadata": {
        "id": "ZAZkRnl-cq5Q"
      },
      "source": [
        "%matplotlib inline\n",
        "\n",
        "from collections.abc import Sequence\n",
        "from sklearn import preprocessing\n",
        "import matplotlib.pyplot as plt\n",
        "import numpy as np\n",
        "import pandas as pd\n",
        "import shutil\n",
        "import os\n",
        "\n",
        "from sklearn.model_selection import train_test_split\n",
        "from sklearn.neighbors import KNeighborsClassifier\n",
        "from sklearn import metrics\n",
        "from sklearn.metrics import confusion_matrix, classification_report\n",
        "from sklearn.linear_model import LogisticRegression\n",
        "from sklearn.metrics import roc_curve, auc\n",
        "from sklearn.pipeline import Pipeline\n",
        "from sklearn.preprocessing import StandardScaler\n",
        "from sklearn.svm import LinearSVC\n",
        "from sklearn.svm import SVC\n",
        "\n",
        "from tensorflow.keras.models import Sequential\n",
        "from tensorflow.keras.layers import Dense, Activation\n",
        "from tensorflow.keras.callbacks import EarlyStopping, ModelCheckpoint"
      ],
      "execution_count": 1,
      "outputs": []
    },
    {
      "cell_type": "markdown",
      "metadata": {
        "id": "V3oGf-GKgd3P"
      },
      "source": [
        "helper Functions"
      ]
    },
    {
      "cell_type": "code",
      "metadata": {
        "id": "LQ0KTERSgf2r"
      },
      "source": [
        "# Encode text values to dummy variables(i.e. [1,0,0],[0,1,0],[0,0,1] for red,green,blue)\n",
        "def encode_text_dummy(df, name):\n",
        "    dummies = pd.get_dummies(df[name])\n",
        "    for x in dummies.columns:\n",
        "        dummy_name = \"{}-{}\".format(name, x)\n",
        "        df[dummy_name] = dummies[x]\n",
        "    df.drop(name, axis=1, inplace=True)\n",
        "\n",
        "\n",
        "# Encode text values to indexes(i.e. [1],[2],[3] for red,green,blue).\n",
        "def encode_text_index(df, name):\n",
        "    le = preprocessing.LabelEncoder()\n",
        "    df[name] = le.fit_transform(df[name])\n",
        "    return le.classes_\n",
        "\n",
        "\n",
        "# Encode a numeric column as zscores\n",
        "def encode_numeric_zscore(df, name, mean=None, sd=None):\n",
        "    if mean is None:\n",
        "        mean = df[name].mean()\n",
        "\n",
        "    if sd is None:\n",
        "        sd = df[name].std()\n",
        "\n",
        "    df[name] = (df[name] - mean) / sd\n",
        "\n",
        "\n",
        "# Convert all missing values in the specified column to the median\n",
        "def missing_median(df, name):\n",
        "    med = df[name].median()\n",
        "    df[name] = df[name].fillna(med)\n",
        "\n",
        "\n",
        "# Convert all missing values in the specified column to the default\n",
        "def missing_default(df, name, default_value):\n",
        "    df[name] = df[name].fillna(default_value)\n",
        "\n",
        "\n",
        "# Convert a Pandas dataframe to the x,y inputs that TensorFlow needs\n",
        "def to_xy(df, target):\n",
        "    result = []\n",
        "    for x in df.columns:\n",
        "        if x != target:\n",
        "            result.append(x)\n",
        "    # find out the type of the target column. \n",
        "    target_type = df[target].dtypes\n",
        "    target_type = target_type[0] if isinstance(target_type, Sequence) else target_type\n",
        "    # Encode to int for classification, float otherwise. TensorFlow likes 32 bits.\n",
        "    if target_type in (np.int64, np.int32):\n",
        "        # Classification\n",
        "        dummies = pd.get_dummies(df[target])\n",
        "        return df[result].values.astype(np.float32), dummies.values.astype(np.float32)\n",
        "    else:\n",
        "        # Regression\n",
        "        return df[result].values.astype(np.float32), df[target].values.astype(np.float32)\n",
        "\n",
        "# Nicely formatted time string\n",
        "def hms_string(sec_elapsed):\n",
        "    h = int(sec_elapsed / (60 * 60))\n",
        "    m = int((sec_elapsed % (60 * 60)) / 60)\n",
        "    s = sec_elapsed % 60\n",
        "    return \"{}:{:>02}:{:>05.2f}\".format(h, m, s)\n",
        "\n",
        "\n",
        "# Regression chart.\n",
        "def chart_regression(pred,y,sort=True):\n",
        "    t = pd.DataFrame({'pred' : pred, 'y' : y.flatten()})\n",
        "    if sort:\n",
        "        t.sort_values(by=['y'],inplace=True)\n",
        "    a = plt.plot(t['y'].tolist(),label='expected')\n",
        "    b = plt.plot(t['pred'].tolist(),label='prediction')\n",
        "    plt.ylabel('output')\n",
        "    plt.legend()\n",
        "    plt.show()\n",
        "\n",
        "# Remove all rows where the specified column is +/- sd standard deviations\n",
        "def remove_outliers(df, name, sd):\n",
        "    drop_rows = df.index[(np.abs(df[name] - df[name].mean()) >= (sd * df[name].std()))]\n",
        "    df.drop(drop_rows, axis=0, inplace=True)\n",
        "\n",
        "\n",
        "# Encode a column to a range between normalized_low and normalized_high.\n",
        "def encode_numeric_range(df, name, normalized_low=-1, normalized_high=1,\n",
        "                         data_low=None, data_high=None):\n",
        "    if data_low is None:\n",
        "        data_low = min(df[name])\n",
        "        data_high = max(df[name])\n",
        "\n",
        "    df[name] = ((df[name] - data_low) / (data_high - data_low)) \\\n",
        "               * (normalized_high - normalized_low) + normalized_low\n",
        "\n",
        "# Plot a confusion matrix.\n",
        "# cm is the confusion matrix, names are the names of the classes.\n",
        "def plot_confusion_matrix(cm, names, title='Confusion matrix', cmap=plt.cm.Blues):\n",
        "    plt.imshow(cm, interpolation='nearest', cmap=cmap)\n",
        "    plt.title(title)\n",
        "    plt.colorbar()\n",
        "    tick_marks = np.arange(len(names))\n",
        "    plt.xticks(tick_marks, names, rotation=45)\n",
        "    plt.yticks(tick_marks, names)\n",
        "    plt.tight_layout()\n",
        "    plt.ylabel('True label')\n",
        "    plt.xlabel('Predicted label')\n",
        "    \n",
        "\n",
        "# Plot an ROC. pred - the predictions, y - the expected output.\n",
        "def plot_roc(pred,y):\n",
        "    fpr, tpr, thresholds = roc_curve(y, pred)\n",
        "    roc_auc = auc(fpr, tpr)\n",
        "\n",
        "    plt.figure()\n",
        "    plt.plot(fpr, tpr, label='ROC curve (area = %0.2f)' % roc_auc)\n",
        "    plt.plot([0, 1], [0, 1], 'k--')\n",
        "    plt.xlim([0.0, 1.0])\n",
        "    plt.ylim([0.0, 1.05])\n",
        "    plt.xlabel('False Positive Rate')\n",
        "    plt.ylabel('True Positive Rate')\n",
        "    plt.title('Receiver Operating Characteristic (ROC)')\n",
        "    plt.legend(loc=\"lower right\")\n",
        "    plt.show()\n"
      ],
      "execution_count": 2,
      "outputs": []
    },
    {
      "cell_type": "markdown",
      "metadata": {
        "id": "Vp1FPWZEgK_t"
      },
      "source": [
        ""
      ]
    },
    {
      "cell_type": "code",
      "metadata": {
        "id": "3HbLaDIMc3pW",
        "outputId": "8d15ac37-88c0-4a80-bb10-4b8434f6e165",
        "colab": {
          "base_uri": "https://localhost:8080/"
        }
      },
      "source": [
        "from google.colab import drive\n",
        "drive.mount('/content/drive')"
      ],
      "execution_count": 3,
      "outputs": [
        {
          "output_type": "stream",
          "text": [
            "Mounted at /content/drive\n"
          ],
          "name": "stdout"
        }
      ]
    },
    {
      "cell_type": "code",
      "metadata": {
        "id": "i83DzerMdAMn"
      },
      "source": [
        "data = pd.read_csv(\"/content/drive/My Drive/AI/creditcard.csv\")"
      ],
      "execution_count": 4,
      "outputs": []
    },
    {
      "cell_type": "code",
      "metadata": {
        "id": "Cl7-AybfhSDi",
        "outputId": "86e03ec8-7c38-4ab3-d0fc-92f2fc3cfa96",
        "colab": {
          "base_uri": "https://localhost:8080/",
          "height": 211
        }
      },
      "source": [
        "data.head()"
      ],
      "execution_count": 5,
      "outputs": [
        {
          "output_type": "execute_result",
          "data": {
            "text/html": [
              "<div>\n",
              "<style scoped>\n",
              "    .dataframe tbody tr th:only-of-type {\n",
              "        vertical-align: middle;\n",
              "    }\n",
              "\n",
              "    .dataframe tbody tr th {\n",
              "        vertical-align: top;\n",
              "    }\n",
              "\n",
              "    .dataframe thead th {\n",
              "        text-align: right;\n",
              "    }\n",
              "</style>\n",
              "<table border=\"1\" class=\"dataframe\">\n",
              "  <thead>\n",
              "    <tr style=\"text-align: right;\">\n",
              "      <th></th>\n",
              "      <th>Time</th>\n",
              "      <th>V1</th>\n",
              "      <th>V2</th>\n",
              "      <th>V3</th>\n",
              "      <th>V4</th>\n",
              "      <th>V5</th>\n",
              "      <th>V6</th>\n",
              "      <th>V7</th>\n",
              "      <th>V8</th>\n",
              "      <th>V9</th>\n",
              "      <th>V10</th>\n",
              "      <th>V11</th>\n",
              "      <th>V12</th>\n",
              "      <th>V13</th>\n",
              "      <th>V14</th>\n",
              "      <th>V15</th>\n",
              "      <th>V16</th>\n",
              "      <th>V17</th>\n",
              "      <th>V18</th>\n",
              "      <th>V19</th>\n",
              "      <th>V20</th>\n",
              "      <th>V21</th>\n",
              "      <th>V22</th>\n",
              "      <th>V23</th>\n",
              "      <th>V24</th>\n",
              "      <th>V25</th>\n",
              "      <th>V26</th>\n",
              "      <th>V27</th>\n",
              "      <th>V28</th>\n",
              "      <th>Amount</th>\n",
              "      <th>Class</th>\n",
              "    </tr>\n",
              "  </thead>\n",
              "  <tbody>\n",
              "    <tr>\n",
              "      <th>0</th>\n",
              "      <td>0.0</td>\n",
              "      <td>-1.359807</td>\n",
              "      <td>-0.072781</td>\n",
              "      <td>2.536347</td>\n",
              "      <td>1.378155</td>\n",
              "      <td>-0.338321</td>\n",
              "      <td>0.462388</td>\n",
              "      <td>0.239599</td>\n",
              "      <td>0.098698</td>\n",
              "      <td>0.363787</td>\n",
              "      <td>0.090794</td>\n",
              "      <td>-0.551600</td>\n",
              "      <td>-0.617801</td>\n",
              "      <td>-0.991390</td>\n",
              "      <td>-0.311169</td>\n",
              "      <td>1.468177</td>\n",
              "      <td>-0.470401</td>\n",
              "      <td>0.207971</td>\n",
              "      <td>0.025791</td>\n",
              "      <td>0.403993</td>\n",
              "      <td>0.251412</td>\n",
              "      <td>-0.018307</td>\n",
              "      <td>0.277838</td>\n",
              "      <td>-0.110474</td>\n",
              "      <td>0.066928</td>\n",
              "      <td>0.128539</td>\n",
              "      <td>-0.189115</td>\n",
              "      <td>0.133558</td>\n",
              "      <td>-0.021053</td>\n",
              "      <td>149.62</td>\n",
              "      <td>0</td>\n",
              "    </tr>\n",
              "    <tr>\n",
              "      <th>1</th>\n",
              "      <td>0.0</td>\n",
              "      <td>1.191857</td>\n",
              "      <td>0.266151</td>\n",
              "      <td>0.166480</td>\n",
              "      <td>0.448154</td>\n",
              "      <td>0.060018</td>\n",
              "      <td>-0.082361</td>\n",
              "      <td>-0.078803</td>\n",
              "      <td>0.085102</td>\n",
              "      <td>-0.255425</td>\n",
              "      <td>-0.166974</td>\n",
              "      <td>1.612727</td>\n",
              "      <td>1.065235</td>\n",
              "      <td>0.489095</td>\n",
              "      <td>-0.143772</td>\n",
              "      <td>0.635558</td>\n",
              "      <td>0.463917</td>\n",
              "      <td>-0.114805</td>\n",
              "      <td>-0.183361</td>\n",
              "      <td>-0.145783</td>\n",
              "      <td>-0.069083</td>\n",
              "      <td>-0.225775</td>\n",
              "      <td>-0.638672</td>\n",
              "      <td>0.101288</td>\n",
              "      <td>-0.339846</td>\n",
              "      <td>0.167170</td>\n",
              "      <td>0.125895</td>\n",
              "      <td>-0.008983</td>\n",
              "      <td>0.014724</td>\n",
              "      <td>2.69</td>\n",
              "      <td>0</td>\n",
              "    </tr>\n",
              "    <tr>\n",
              "      <th>2</th>\n",
              "      <td>1.0</td>\n",
              "      <td>-1.358354</td>\n",
              "      <td>-1.340163</td>\n",
              "      <td>1.773209</td>\n",
              "      <td>0.379780</td>\n",
              "      <td>-0.503198</td>\n",
              "      <td>1.800499</td>\n",
              "      <td>0.791461</td>\n",
              "      <td>0.247676</td>\n",
              "      <td>-1.514654</td>\n",
              "      <td>0.207643</td>\n",
              "      <td>0.624501</td>\n",
              "      <td>0.066084</td>\n",
              "      <td>0.717293</td>\n",
              "      <td>-0.165946</td>\n",
              "      <td>2.345865</td>\n",
              "      <td>-2.890083</td>\n",
              "      <td>1.109969</td>\n",
              "      <td>-0.121359</td>\n",
              "      <td>-2.261857</td>\n",
              "      <td>0.524980</td>\n",
              "      <td>0.247998</td>\n",
              "      <td>0.771679</td>\n",
              "      <td>0.909412</td>\n",
              "      <td>-0.689281</td>\n",
              "      <td>-0.327642</td>\n",
              "      <td>-0.139097</td>\n",
              "      <td>-0.055353</td>\n",
              "      <td>-0.059752</td>\n",
              "      <td>378.66</td>\n",
              "      <td>0</td>\n",
              "    </tr>\n",
              "    <tr>\n",
              "      <th>3</th>\n",
              "      <td>1.0</td>\n",
              "      <td>-0.966272</td>\n",
              "      <td>-0.185226</td>\n",
              "      <td>1.792993</td>\n",
              "      <td>-0.863291</td>\n",
              "      <td>-0.010309</td>\n",
              "      <td>1.247203</td>\n",
              "      <td>0.237609</td>\n",
              "      <td>0.377436</td>\n",
              "      <td>-1.387024</td>\n",
              "      <td>-0.054952</td>\n",
              "      <td>-0.226487</td>\n",
              "      <td>0.178228</td>\n",
              "      <td>0.507757</td>\n",
              "      <td>-0.287924</td>\n",
              "      <td>-0.631418</td>\n",
              "      <td>-1.059647</td>\n",
              "      <td>-0.684093</td>\n",
              "      <td>1.965775</td>\n",
              "      <td>-1.232622</td>\n",
              "      <td>-0.208038</td>\n",
              "      <td>-0.108300</td>\n",
              "      <td>0.005274</td>\n",
              "      <td>-0.190321</td>\n",
              "      <td>-1.175575</td>\n",
              "      <td>0.647376</td>\n",
              "      <td>-0.221929</td>\n",
              "      <td>0.062723</td>\n",
              "      <td>0.061458</td>\n",
              "      <td>123.50</td>\n",
              "      <td>0</td>\n",
              "    </tr>\n",
              "    <tr>\n",
              "      <th>4</th>\n",
              "      <td>2.0</td>\n",
              "      <td>-1.158233</td>\n",
              "      <td>0.877737</td>\n",
              "      <td>1.548718</td>\n",
              "      <td>0.403034</td>\n",
              "      <td>-0.407193</td>\n",
              "      <td>0.095921</td>\n",
              "      <td>0.592941</td>\n",
              "      <td>-0.270533</td>\n",
              "      <td>0.817739</td>\n",
              "      <td>0.753074</td>\n",
              "      <td>-0.822843</td>\n",
              "      <td>0.538196</td>\n",
              "      <td>1.345852</td>\n",
              "      <td>-1.119670</td>\n",
              "      <td>0.175121</td>\n",
              "      <td>-0.451449</td>\n",
              "      <td>-0.237033</td>\n",
              "      <td>-0.038195</td>\n",
              "      <td>0.803487</td>\n",
              "      <td>0.408542</td>\n",
              "      <td>-0.009431</td>\n",
              "      <td>0.798278</td>\n",
              "      <td>-0.137458</td>\n",
              "      <td>0.141267</td>\n",
              "      <td>-0.206010</td>\n",
              "      <td>0.502292</td>\n",
              "      <td>0.219422</td>\n",
              "      <td>0.215153</td>\n",
              "      <td>69.99</td>\n",
              "      <td>0</td>\n",
              "    </tr>\n",
              "  </tbody>\n",
              "</table>\n",
              "</div>"
            ],
            "text/plain": [
              "   Time        V1        V2        V3  ...       V27       V28  Amount  Class\n",
              "0   0.0 -1.359807 -0.072781  2.536347  ...  0.133558 -0.021053  149.62      0\n",
              "1   0.0  1.191857  0.266151  0.166480  ... -0.008983  0.014724    2.69      0\n",
              "2   1.0 -1.358354 -1.340163  1.773209  ... -0.055353 -0.059752  378.66      0\n",
              "3   1.0 -0.966272 -0.185226  1.792993  ...  0.062723  0.061458  123.50      0\n",
              "4   2.0 -1.158233  0.877737  1.548718  ...  0.219422  0.215153   69.99      0\n",
              "\n",
              "[5 rows x 31 columns]"
            ]
          },
          "metadata": {
            "tags": []
          },
          "execution_count": 5
        }
      ]
    },
    {
      "cell_type": "markdown",
      "metadata": {
        "id": "7eQ7S9uIhiDo"
      },
      "source": [
        "Detecting Null Values"
      ]
    },
    {
      "cell_type": "code",
      "metadata": {
        "id": "5N22gzeGhYXy",
        "outputId": "c2f0c63e-f8c7-4884-aac0-edaf049d5ff9",
        "colab": {
          "base_uri": "https://localhost:8080/"
        }
      },
      "source": [
        "data.isna().sum()"
      ],
      "execution_count": 6,
      "outputs": [
        {
          "output_type": "execute_result",
          "data": {
            "text/plain": [
              "Time      0\n",
              "V1        0\n",
              "V2        0\n",
              "V3        0\n",
              "V4        0\n",
              "V5        0\n",
              "V6        0\n",
              "V7        0\n",
              "V8        0\n",
              "V9        0\n",
              "V10       0\n",
              "V11       0\n",
              "V12       0\n",
              "V13       0\n",
              "V14       0\n",
              "V15       0\n",
              "V16       0\n",
              "V17       0\n",
              "V18       0\n",
              "V19       0\n",
              "V20       0\n",
              "V21       0\n",
              "V22       0\n",
              "V23       0\n",
              "V24       0\n",
              "V25       0\n",
              "V26       0\n",
              "V27       0\n",
              "V28       0\n",
              "Amount    0\n",
              "Class     0\n",
              "dtype: int64"
            ]
          },
          "metadata": {
            "tags": []
          },
          "execution_count": 6
        }
      ]
    },
    {
      "cell_type": "code",
      "metadata": {
        "id": "2fpXlSn1iD3b",
        "outputId": "62ae6ab6-44aa-4fd3-d3d4-4e8dffaa8dbc",
        "colab": {
          "base_uri": "https://localhost:8080/"
        }
      },
      "source": [
        "data.shape"
      ],
      "execution_count": 7,
      "outputs": [
        {
          "output_type": "execute_result",
          "data": {
            "text/plain": [
              "(284807, 31)"
            ]
          },
          "metadata": {
            "tags": []
          },
          "execution_count": 7
        }
      ]
    },
    {
      "cell_type": "code",
      "metadata": {
        "id": "bXXD45gMiW5I",
        "outputId": "0fbb2707-5e1b-4a5f-9730-f0e93f077c57",
        "colab": {
          "base_uri": "https://localhost:8080/"
        }
      },
      "source": [
        "data.describe"
      ],
      "execution_count": 8,
      "outputs": [
        {
          "output_type": "execute_result",
          "data": {
            "text/plain": [
              "<bound method NDFrame.describe of             Time         V1         V2  ...       V28  Amount  Class\n",
              "0            0.0  -1.359807  -0.072781  ... -0.021053  149.62      0\n",
              "1            0.0   1.191857   0.266151  ...  0.014724    2.69      0\n",
              "2            1.0  -1.358354  -1.340163  ... -0.059752  378.66      0\n",
              "3            1.0  -0.966272  -0.185226  ...  0.061458  123.50      0\n",
              "4            2.0  -1.158233   0.877737  ...  0.215153   69.99      0\n",
              "...          ...        ...        ...  ...       ...     ...    ...\n",
              "284802  172786.0 -11.881118  10.071785  ...  0.823731    0.77      0\n",
              "284803  172787.0  -0.732789  -0.055080  ... -0.053527   24.79      0\n",
              "284804  172788.0   1.919565  -0.301254  ... -0.026561   67.88      0\n",
              "284805  172788.0  -0.240440   0.530483  ...  0.104533   10.00      0\n",
              "284806  172792.0  -0.533413  -0.189733  ...  0.013649  217.00      0\n",
              "\n",
              "[284807 rows x 31 columns]>"
            ]
          },
          "metadata": {
            "tags": []
          },
          "execution_count": 8
        }
      ]
    },
    {
      "cell_type": "code",
      "metadata": {
        "id": "gjXVlvfzikvr",
        "outputId": "dfcea897-2251-45d3-cf95-04cdcc03089b",
        "colab": {
          "base_uri": "https://localhost:8080/"
        }
      },
      "source": [
        "data.count()"
      ],
      "execution_count": 9,
      "outputs": [
        {
          "output_type": "execute_result",
          "data": {
            "text/plain": [
              "Time      284807\n",
              "V1        284807\n",
              "V2        284807\n",
              "V3        284807\n",
              "V4        284807\n",
              "V5        284807\n",
              "V6        284807\n",
              "V7        284807\n",
              "V8        284807\n",
              "V9        284807\n",
              "V10       284807\n",
              "V11       284807\n",
              "V12       284807\n",
              "V13       284807\n",
              "V14       284807\n",
              "V15       284807\n",
              "V16       284807\n",
              "V17       284807\n",
              "V18       284807\n",
              "V19       284807\n",
              "V20       284807\n",
              "V21       284807\n",
              "V22       284807\n",
              "V23       284807\n",
              "V24       284807\n",
              "V25       284807\n",
              "V26       284807\n",
              "V27       284807\n",
              "V28       284807\n",
              "Amount    284807\n",
              "Class     284807\n",
              "dtype: int64"
            ]
          },
          "metadata": {
            "tags": []
          },
          "execution_count": 9
        }
      ]
    },
    {
      "cell_type": "code",
      "metadata": {
        "id": "Q5LWwerpjc6m",
        "outputId": "6d7b56b5-9003-4df9-dbb0-0c23818bc7ee",
        "colab": {
          "base_uri": "https://localhost:8080/"
        }
      },
      "source": [
        "data.info()"
      ],
      "execution_count": 10,
      "outputs": [
        {
          "output_type": "stream",
          "text": [
            "<class 'pandas.core.frame.DataFrame'>\n",
            "RangeIndex: 284807 entries, 0 to 284806\n",
            "Data columns (total 31 columns):\n",
            " #   Column  Non-Null Count   Dtype  \n",
            "---  ------  --------------   -----  \n",
            " 0   Time    284807 non-null  float64\n",
            " 1   V1      284807 non-null  float64\n",
            " 2   V2      284807 non-null  float64\n",
            " 3   V3      284807 non-null  float64\n",
            " 4   V4      284807 non-null  float64\n",
            " 5   V5      284807 non-null  float64\n",
            " 6   V6      284807 non-null  float64\n",
            " 7   V7      284807 non-null  float64\n",
            " 8   V8      284807 non-null  float64\n",
            " 9   V9      284807 non-null  float64\n",
            " 10  V10     284807 non-null  float64\n",
            " 11  V11     284807 non-null  float64\n",
            " 12  V12     284807 non-null  float64\n",
            " 13  V13     284807 non-null  float64\n",
            " 14  V14     284807 non-null  float64\n",
            " 15  V15     284807 non-null  float64\n",
            " 16  V16     284807 non-null  float64\n",
            " 17  V17     284807 non-null  float64\n",
            " 18  V18     284807 non-null  float64\n",
            " 19  V19     284807 non-null  float64\n",
            " 20  V20     284807 non-null  float64\n",
            " 21  V21     284807 non-null  float64\n",
            " 22  V22     284807 non-null  float64\n",
            " 23  V23     284807 non-null  float64\n",
            " 24  V24     284807 non-null  float64\n",
            " 25  V25     284807 non-null  float64\n",
            " 26  V26     284807 non-null  float64\n",
            " 27  V27     284807 non-null  float64\n",
            " 28  V28     284807 non-null  float64\n",
            " 29  Amount  284807 non-null  float64\n",
            " 30  Class   284807 non-null  int64  \n",
            "dtypes: float64(30), int64(1)\n",
            "memory usage: 67.4 MB\n"
          ],
          "name": "stdout"
        }
      ]
    },
    {
      "cell_type": "markdown",
      "metadata": {
        "id": "U3IbXesLj_Zl"
      },
      "source": [
        "Normal and Fraud Dataset"
      ]
    },
    {
      "cell_type": "code",
      "metadata": {
        "id": "TjayJfnOkCLN"
      },
      "source": [
        "Fraud = data[data['Class']==1]\n",
        "Normal = data[data['Class']==0]"
      ],
      "execution_count": 11,
      "outputs": []
    },
    {
      "cell_type": "code",
      "metadata": {
        "id": "92Ede3I7kiXM",
        "outputId": "9b0f3752-b3ce-40d2-ced2-d58d3f2c627d",
        "colab": {
          "base_uri": "https://localhost:8080/",
          "height": 277
        }
      },
      "source": [
        "pd.concat([Normal.Amount.describe(), Normal.Time.describe()],  axis=1)"
      ],
      "execution_count": 12,
      "outputs": [
        {
          "output_type": "execute_result",
          "data": {
            "text/html": [
              "<div>\n",
              "<style scoped>\n",
              "    .dataframe tbody tr th:only-of-type {\n",
              "        vertical-align: middle;\n",
              "    }\n",
              "\n",
              "    .dataframe tbody tr th {\n",
              "        vertical-align: top;\n",
              "    }\n",
              "\n",
              "    .dataframe thead th {\n",
              "        text-align: right;\n",
              "    }\n",
              "</style>\n",
              "<table border=\"1\" class=\"dataframe\">\n",
              "  <thead>\n",
              "    <tr style=\"text-align: right;\">\n",
              "      <th></th>\n",
              "      <th>Amount</th>\n",
              "      <th>Time</th>\n",
              "    </tr>\n",
              "  </thead>\n",
              "  <tbody>\n",
              "    <tr>\n",
              "      <th>count</th>\n",
              "      <td>284315.000000</td>\n",
              "      <td>284315.000000</td>\n",
              "    </tr>\n",
              "    <tr>\n",
              "      <th>mean</th>\n",
              "      <td>88.291022</td>\n",
              "      <td>94838.202258</td>\n",
              "    </tr>\n",
              "    <tr>\n",
              "      <th>std</th>\n",
              "      <td>250.105092</td>\n",
              "      <td>47484.015786</td>\n",
              "    </tr>\n",
              "    <tr>\n",
              "      <th>min</th>\n",
              "      <td>0.000000</td>\n",
              "      <td>0.000000</td>\n",
              "    </tr>\n",
              "    <tr>\n",
              "      <th>25%</th>\n",
              "      <td>5.650000</td>\n",
              "      <td>54230.000000</td>\n",
              "    </tr>\n",
              "    <tr>\n",
              "      <th>50%</th>\n",
              "      <td>22.000000</td>\n",
              "      <td>84711.000000</td>\n",
              "    </tr>\n",
              "    <tr>\n",
              "      <th>75%</th>\n",
              "      <td>77.050000</td>\n",
              "      <td>139333.000000</td>\n",
              "    </tr>\n",
              "    <tr>\n",
              "      <th>max</th>\n",
              "      <td>25691.160000</td>\n",
              "      <td>172792.000000</td>\n",
              "    </tr>\n",
              "  </tbody>\n",
              "</table>\n",
              "</div>"
            ],
            "text/plain": [
              "              Amount           Time\n",
              "count  284315.000000  284315.000000\n",
              "mean       88.291022   94838.202258\n",
              "std       250.105092   47484.015786\n",
              "min         0.000000       0.000000\n",
              "25%         5.650000   54230.000000\n",
              "50%        22.000000   84711.000000\n",
              "75%        77.050000  139333.000000\n",
              "max     25691.160000  172792.000000"
            ]
          },
          "metadata": {
            "tags": []
          },
          "execution_count": 12
        }
      ]
    },
    {
      "cell_type": "code",
      "metadata": {
        "id": "ey6m4i-fkko9",
        "outputId": "602af7ca-8013-428e-de06-bcef095f8ed3",
        "colab": {
          "base_uri": "https://localhost:8080/",
          "height": 277
        }
      },
      "source": [
        "pd.concat([Fraud.Amount.describe(), Fraud.Time.describe()],  axis=1)"
      ],
      "execution_count": 13,
      "outputs": [
        {
          "output_type": "execute_result",
          "data": {
            "text/html": [
              "<div>\n",
              "<style scoped>\n",
              "    .dataframe tbody tr th:only-of-type {\n",
              "        vertical-align: middle;\n",
              "    }\n",
              "\n",
              "    .dataframe tbody tr th {\n",
              "        vertical-align: top;\n",
              "    }\n",
              "\n",
              "    .dataframe thead th {\n",
              "        text-align: right;\n",
              "    }\n",
              "</style>\n",
              "<table border=\"1\" class=\"dataframe\">\n",
              "  <thead>\n",
              "    <tr style=\"text-align: right;\">\n",
              "      <th></th>\n",
              "      <th>Amount</th>\n",
              "      <th>Time</th>\n",
              "    </tr>\n",
              "  </thead>\n",
              "  <tbody>\n",
              "    <tr>\n",
              "      <th>count</th>\n",
              "      <td>492.000000</td>\n",
              "      <td>492.000000</td>\n",
              "    </tr>\n",
              "    <tr>\n",
              "      <th>mean</th>\n",
              "      <td>122.211321</td>\n",
              "      <td>80746.806911</td>\n",
              "    </tr>\n",
              "    <tr>\n",
              "      <th>std</th>\n",
              "      <td>256.683288</td>\n",
              "      <td>47835.365138</td>\n",
              "    </tr>\n",
              "    <tr>\n",
              "      <th>min</th>\n",
              "      <td>0.000000</td>\n",
              "      <td>406.000000</td>\n",
              "    </tr>\n",
              "    <tr>\n",
              "      <th>25%</th>\n",
              "      <td>1.000000</td>\n",
              "      <td>41241.500000</td>\n",
              "    </tr>\n",
              "    <tr>\n",
              "      <th>50%</th>\n",
              "      <td>9.250000</td>\n",
              "      <td>75568.500000</td>\n",
              "    </tr>\n",
              "    <tr>\n",
              "      <th>75%</th>\n",
              "      <td>105.890000</td>\n",
              "      <td>128483.000000</td>\n",
              "    </tr>\n",
              "    <tr>\n",
              "      <th>max</th>\n",
              "      <td>2125.870000</td>\n",
              "      <td>170348.000000</td>\n",
              "    </tr>\n",
              "  </tbody>\n",
              "</table>\n",
              "</div>"
            ],
            "text/plain": [
              "            Amount           Time\n",
              "count   492.000000     492.000000\n",
              "mean    122.211321   80746.806911\n",
              "std     256.683288   47835.365138\n",
              "min       0.000000     406.000000\n",
              "25%       1.000000   41241.500000\n",
              "50%       9.250000   75568.500000\n",
              "75%     105.890000  128483.000000\n",
              "max    2125.870000  170348.000000"
            ]
          },
          "metadata": {
            "tags": []
          },
          "execution_count": 13
        }
      ]
    },
    {
      "cell_type": "code",
      "metadata": {
        "id": "5pESTTqjksXE",
        "outputId": "e8ac9e1b-9944-457a-f1df-2e7b79b317ac",
        "colab": {
          "base_uri": "https://localhost:8080/"
        }
      },
      "source": [
        "print('Fraud Shape:\\t', Fraud.shape)\n",
        "print('Normal Shape:\\t', Normal.shape)"
      ],
      "execution_count": 14,
      "outputs": [
        {
          "output_type": "stream",
          "text": [
            "Fraud Shape:\t (492, 31)\n",
            "Normal Shape:\t (284315, 31)\n"
          ],
          "name": "stdout"
        }
      ]
    },
    {
      "cell_type": "code",
      "metadata": {
        "id": "edp6xtte4Po8",
        "outputId": "651c83ea-3730-460a-fcec-7f2f838b6233",
        "colab": {
          "base_uri": "https://localhost:8080/",
          "height": 277
        }
      },
      "source": [
        "pd.concat([Fraud.Time.describe(), Normal.Time.describe()], axis=1)\n"
      ],
      "execution_count": 17,
      "outputs": [
        {
          "output_type": "execute_result",
          "data": {
            "text/html": [
              "<div>\n",
              "<style scoped>\n",
              "    .dataframe tbody tr th:only-of-type {\n",
              "        vertical-align: middle;\n",
              "    }\n",
              "\n",
              "    .dataframe tbody tr th {\n",
              "        vertical-align: top;\n",
              "    }\n",
              "\n",
              "    .dataframe thead th {\n",
              "        text-align: right;\n",
              "    }\n",
              "</style>\n",
              "<table border=\"1\" class=\"dataframe\">\n",
              "  <thead>\n",
              "    <tr style=\"text-align: right;\">\n",
              "      <th></th>\n",
              "      <th>Time</th>\n",
              "      <th>Time</th>\n",
              "    </tr>\n",
              "  </thead>\n",
              "  <tbody>\n",
              "    <tr>\n",
              "      <th>count</th>\n",
              "      <td>492.000000</td>\n",
              "      <td>284315.000000</td>\n",
              "    </tr>\n",
              "    <tr>\n",
              "      <th>mean</th>\n",
              "      <td>80746.806911</td>\n",
              "      <td>94838.202258</td>\n",
              "    </tr>\n",
              "    <tr>\n",
              "      <th>std</th>\n",
              "      <td>47835.365138</td>\n",
              "      <td>47484.015786</td>\n",
              "    </tr>\n",
              "    <tr>\n",
              "      <th>min</th>\n",
              "      <td>406.000000</td>\n",
              "      <td>0.000000</td>\n",
              "    </tr>\n",
              "    <tr>\n",
              "      <th>25%</th>\n",
              "      <td>41241.500000</td>\n",
              "      <td>54230.000000</td>\n",
              "    </tr>\n",
              "    <tr>\n",
              "      <th>50%</th>\n",
              "      <td>75568.500000</td>\n",
              "      <td>84711.000000</td>\n",
              "    </tr>\n",
              "    <tr>\n",
              "      <th>75%</th>\n",
              "      <td>128483.000000</td>\n",
              "      <td>139333.000000</td>\n",
              "    </tr>\n",
              "    <tr>\n",
              "      <th>max</th>\n",
              "      <td>170348.000000</td>\n",
              "      <td>172792.000000</td>\n",
              "    </tr>\n",
              "  </tbody>\n",
              "</table>\n",
              "</div>"
            ],
            "text/plain": [
              "                Time           Time\n",
              "count     492.000000  284315.000000\n",
              "mean    80746.806911   94838.202258\n",
              "std     47835.365138   47484.015786\n",
              "min       406.000000       0.000000\n",
              "25%     41241.500000   54230.000000\n",
              "50%     75568.500000   84711.000000\n",
              "75%    128483.000000  139333.000000\n",
              "max    170348.000000  172792.000000"
            ]
          },
          "metadata": {
            "tags": []
          },
          "execution_count": 17
        }
      ]
    },
    {
      "cell_type": "markdown",
      "metadata": {
        "id": "9KevG_ti4jkS"
      },
      "source": [
        "Graph for fradulent and Non fradulent"
      ]
    },
    {
      "cell_type": "code",
      "metadata": {
        "id": "Bsk3C-I04nmr",
        "outputId": "4f9c674d-9b2b-42dc-df98-09cf99baf4b7",
        "colab": {
          "base_uri": "https://localhost:8080/",
          "height": 311
        }
      },
      "source": [
        "# data[data.Class == 0].Time.hist(bins=35, color='blue', alpha=0.6)\n",
        "plt.figure(figsize=(12, 10))\n",
        "\n",
        "plt.subplot(2, 2, 1)\n",
        "data[data.Class == 1].Time.hist(bins=35, color='orange', alpha=0.6, label=\"Fraudulant Transaction\")\n",
        "plt.legend()\n",
        "\n",
        "plt.subplot(2, 2, 2)\n",
        "data[data.Class == 0].Time.hist(bins=35, color='orange', alpha=0.6, label=\"Non Fraudulant Transaction\")\n",
        "plt.legend()"
      ],
      "execution_count": 19,
      "outputs": [
        {
          "output_type": "execute_result",
          "data": {
            "text/plain": [
              "<matplotlib.legend.Legend at 0x7f4ded5632e8>"
            ]
          },
          "metadata": {
            "tags": []
          },
          "execution_count": 19
        },
        {
          "output_type": "display_data",
          "data": {
            "image/png": "[encoded data removed]",
            "text/plain": [
              "<Figure size 864x720 with 2 Axes>"
            ]
          },
          "metadata": {
            "tags": [],
            "needs_background": "light"
          }
        }
      ]
    },
    {
      "cell_type": "markdown",
      "metadata": {
        "id": "aIF3Y5wm9V8Y"
      },
      "source": [
        "Split the data into X and Y"
      ]
    },
    {
      "cell_type": "code",
      "metadata": {
        "id": "G-vzGNlK_IAg"
      },
      "source": [
        "from sklearn.model_selection import train_test_split\n",
        "from sklearn.preprocessing import StandardScaler\n",
        "\n",
        "scalar = StandardScaler()\n",
        "X = data.drop('Class', axis=1)\n",
        "y = data.Class"
      ],
      "execution_count": 26,
      "outputs": []
    },
    {
      "cell_type": "code",
      "metadata": {
        "id": "jqIJOofLC5lz",
        "outputId": "c2716ae7-2961-4e6d-dc4e-78e768c2ddf1",
        "colab": {
          "base_uri": "https://localhost:8080/"
        }
      },
      "source": [
        "y.value_counts()"
      ],
      "execution_count": 44,
      "outputs": [
        {
          "output_type": "execute_result",
          "data": {
            "text/plain": [
              "0    284315\n",
              "1       492\n",
              "Name: Class, dtype: int64"
            ]
          },
          "metadata": {
            "tags": []
          },
          "execution_count": 44
        }
      ]
    },
    {
      "cell_type": "code",
      "metadata": {
        "id": "HLafHtKRC_4Z",
        "outputId": "b159a56d-65b5-4d54-be05-9a7649624763",
        "colab": {
          "base_uri": "https://localhost:8080/"
        }
      },
      "source": [
        "# Applying StandardScalar preprocessing on the x data\n",
        "from sklearn.preprocessing import StandardScaler\n",
        "sc = StandardScaler()\n",
        "X = sc.fit_transform(X)\n",
        "X"
      ],
      "execution_count": 46,
      "outputs": [
        {
          "output_type": "execute_result",
          "data": {
            "text/plain": [
              "array([[-1.99658302, -0.69424232, -0.04407492, ...,  0.33089162,\n",
              "        -0.06378115,  0.24496426],\n",
              "       [-1.99658302,  0.60849633,  0.16117592, ..., -0.02225568,\n",
              "         0.04460752, -0.34247454],\n",
              "       [-1.99656197, -0.69350046, -0.81157783, ..., -0.13713686,\n",
              "        -0.18102083,  1.16068593],\n",
              "       ...,\n",
              "       [ 1.6419735 ,  0.98002374, -0.18243372, ...,  0.01103672,\n",
              "        -0.0804672 , -0.0818393 ],\n",
              "       [ 1.6419735 , -0.12275539,  0.32125034, ...,  0.26960398,\n",
              "         0.31668678, -0.31324853],\n",
              "       [ 1.64205773, -0.27233093, -0.11489898, ..., -0.00598394,\n",
              "         0.04134999,  0.51435531]])"
            ]
          },
          "metadata": {
            "tags": []
          },
          "execution_count": 46
        }
      ]
    },
    {
      "cell_type": "markdown",
      "metadata": {
        "id": "_k8XEs_VDMrR"
      },
      "source": [
        "Downsampling with near miss"
      ]
    },
    {
      "cell_type": "code",
      "metadata": {
        "id": "BfOJA0hADPg8",
        "outputId": "5906a145-224d-47f6-cd6e-2f88c9918992",
        "colab": {
          "base_uri": "https://localhost:8080/"
        }
      },
      "source": [
        "from collections import Counter\n",
        "from sklearn.datasets import make_classification\n",
        "from imblearn.over_sampling import RandomOverSampler\n",
        "from imblearn.under_sampling import RandomUnderSampler\n",
        "\n",
        "print(Counter(y))"
      ],
      "execution_count": 47,
      "outputs": [
        {
          "output_type": "stream",
          "text": [
            "/usr/local/lib/python3.6/dist-packages/sklearn/externals/six.py:31: FutureWarning: The module is deprecated in version 0.21 and will be removed in version 0.23 since we've dropped support for Python 2.7. Please rely on the official version of six (https://pypi.org/project/six/).\n",
            "  \"(https://pypi.org/project/six/).\", FutureWarning)\n",
            "/usr/local/lib/python3.6/dist-packages/sklearn/utils/deprecation.py:144: FutureWarning: The sklearn.neighbors.base module is  deprecated in version 0.22 and will be removed in version 0.24. The corresponding classes / functions should instead be imported from sklearn.neighbors. Anything that cannot be imported from sklearn.neighbors is now part of the private API.\n",
            "  warnings.warn(message, FutureWarning)\n"
          ],
          "name": "stderr"
        },
        {
          "output_type": "stream",
          "text": [
            "Counter({0: 284315, 1: 492})\n"
          ],
          "name": "stdout"
        }
      ]
    },
    {
      "cell_type": "code",
      "metadata": {
        "id": "9nlU7yvrDfl6",
        "outputId": "04449dde-d073-4d05-b06d-18513dbeb470",
        "colab": {
          "base_uri": "https://localhost:8080/"
        }
      },
      "source": [
        "# Applying NearMiss downsampling technique for imbalanced data\n",
        "from imblearn.under_sampling import NearMiss \n",
        "nr = NearMiss() \n",
        "  \n",
        "X, y = nr.fit_sample(X, y)"
      ],
      "execution_count": 48,
      "outputs": [
        {
          "output_type": "stream",
          "text": [
            "/usr/local/lib/python3.6/dist-packages/sklearn/utils/deprecation.py:87: FutureWarning: Function safe_indexing is deprecated; safe_indexing is deprecated in version 0.22 and will be removed in version 0.24.\n",
            "  warnings.warn(msg, category=FutureWarning)\n",
            "/usr/local/lib/python3.6/dist-packages/sklearn/utils/deprecation.py:87: FutureWarning: Function safe_indexing is deprecated; safe_indexing is deprecated in version 0.22 and will be removed in version 0.24.\n",
            "  warnings.warn(msg, category=FutureWarning)\n",
            "/usr/local/lib/python3.6/dist-packages/sklearn/utils/deprecation.py:87: FutureWarning: Function safe_indexing is deprecated; safe_indexing is deprecated in version 0.22 and will be removed in version 0.24.\n",
            "  warnings.warn(msg, category=FutureWarning)\n"
          ],
          "name": "stderr"
        }
      ]
    },
    {
      "cell_type": "code",
      "metadata": {
        "id": "9ul99LBbDnBu",
        "outputId": "27b674c0-235d-483c-8b8f-10c380c43891",
        "colab": {
          "base_uri": "https://localhost:8080/"
        }
      },
      "source": [
        "Counter(y)"
      ],
      "execution_count": 49,
      "outputs": [
        {
          "output_type": "execute_result",
          "data": {
            "text/plain": [
              "Counter({0: 492, 1: 492})"
            ]
          },
          "metadata": {
            "tags": []
          },
          "execution_count": 49
        }
      ]
    },
    {
      "cell_type": "markdown",
      "metadata": {
        "id": "Alto7krmENC7"
      },
      "source": [
        "Split train and test"
      ]
    },
    {
      "cell_type": "code",
      "metadata": {
        "id": "CutMhpiaEGeB"
      },
      "source": [
        "X_train,X_test,y_train,y_test = train_test_split(X,y,test_size=0.20,random_state=0)"
      ],
      "execution_count": 52,
      "outputs": []
    },
    {
      "cell_type": "markdown",
      "metadata": {
        "id": "OAXFDwO4EXAh"
      },
      "source": [
        "Logistic Regression"
      ]
    },
    {
      "cell_type": "code",
      "metadata": {
        "id": "6ImNCT6XEahz",
        "outputId": "01984f0e-729d-456c-bd3f-604453ff0481",
        "colab": {
          "base_uri": "https://localhost:8080/"
        }
      },
      "source": [
        "from sklearn.linear_model import LogisticRegression\n",
        "from sklearn.metrics import confusion_matrix\n",
        "from sklearn.metrics import classification_report\n",
        "\n",
        "lr=LogisticRegression()\n",
        "lr.fit(X_train,y_train)"
      ],
      "execution_count": 53,
      "outputs": [
        {
          "output_type": "execute_result",
          "data": {
            "text/plain": [
              "LogisticRegression(C=1.0, class_weight=None, dual=False, fit_intercept=True,\n",
              "                   intercept_scaling=1, l1_ratio=None, max_iter=100,\n",
              "                   multi_class='auto', n_jobs=None, penalty='l2',\n",
              "                   random_state=None, solver='lbfgs', tol=0.0001, verbose=0,\n",
              "                   warm_start=False)"
            ]
          },
          "metadata": {
            "tags": []
          },
          "execution_count": 53
        }
      ]
    },
    {
      "cell_type": "code",
      "metadata": {
        "id": "H6nh3Yw9Ei5n",
        "outputId": "e69d2536-59b9-4af3-8cd0-8cff029df1b5",
        "colab": {
          "base_uri": "https://localhost:8080/"
        }
      },
      "source": [
        "# Accuracy\n",
        "y_pred = lr.predict(X_test)\n",
        "print('Accuracy of logistic regression classifier on test set:',lr.score(X_test, y_test))"
      ],
      "execution_count": 55,
      "outputs": [
        {
          "output_type": "stream",
          "text": [
            "Accuracy of logistic regression classifier on test set: 0.9441624365482234\n"
          ],
          "name": "stdout"
        }
      ]
    },
    {
      "cell_type": "code",
      "metadata": {
        "id": "k-J9mW8eEwa6",
        "outputId": "c72a3ef9-08b8-4325-cc0b-1a8ff60e05c4",
        "colab": {
          "base_uri": "https://localhost:8080/",
          "height": 343
        }
      },
      "source": [
        "# Print and plot confusion matrix   \n",
        "cm = confusion_matrix(y_test, y_pred)\n",
        "print(cm)\n",
        "plot_confusion_matrix(cm,['0','1'])"
      ],
      "execution_count": 56,
      "outputs": [
        {
          "output_type": "stream",
          "text": [
            "[[90  1]\n",
            " [10 96]]\n"
          ],
          "name": "stdout"
        },
        {
          "output_type": "display_data",
          "data": {
            "image/png": "[encoded data removed]",
            "text/plain": [
              "<Figure size 432x288 with 2 Axes>"
            ]
          },
          "metadata": {
            "tags": [],
            "needs_background": "light"
          }
        }
      ]
    },
    {
      "cell_type": "code",
      "metadata": {
        "id": "7Xx7VyhjE54F",
        "outputId": "82467e74-c651-42d0-d097-bcf6f3762027",
        "colab": {
          "base_uri": "https://localhost:8080/",
          "height": 295
        }
      },
      "source": [
        "# Plot roc curve\n",
        "plot_roc(y_pred,y_test)"
      ],
      "execution_count": 57,
      "outputs": [
        {
          "output_type": "display_data",
          "data": {
            "image/png": "[encoded data removed]",
            "text/plain": [
              "<Figure size 432x288 with 1 Axes>"
            ]
          },
          "metadata": {
            "tags": [],
            "needs_background": "light"
          }
        }
      ]
    },
    {
      "cell_type": "code",
      "metadata": {
        "id": "rcr_4Z8wE_RZ",
        "outputId": "40c7060d-be88-48ea-f386-ad949d0daa09",
        "colab": {
          "base_uri": "https://localhost:8080/"
        }
      },
      "source": [
        "# Print Classification Report\n",
        "print(classification_report(y_test,y_pred))"
      ],
      "execution_count": 58,
      "outputs": [
        {
          "output_type": "stream",
          "text": [
            "              precision    recall  f1-score   support\n",
            "\n",
            "           0       0.90      0.99      0.94        91\n",
            "           1       0.99      0.91      0.95       106\n",
            "\n",
            "    accuracy                           0.94       197\n",
            "   macro avg       0.94      0.95      0.94       197\n",
            "weighted avg       0.95      0.94      0.94       197\n",
            "\n"
          ],
          "name": "stdout"
        }
      ]
    },
    {
      "cell_type": "markdown",
      "metadata": {
        "id": "3T3i5bSLFKU4"
      },
      "source": [
        "CNN"
      ]
    },
    {
      "cell_type": "code",
      "metadata": {
        "id": "dYtmgpfmFLIO"
      },
      "source": [
        "X_traincnn = np.expand_dims(X_train,axis=2)\n",
        "X_testcnn = np.expand_dims(X_test, axis=2)"
      ],
      "execution_count": 59,
      "outputs": []
    },
    {
      "cell_type": "code",
      "metadata": {
        "id": "CHRbsVi5Fxit",
        "outputId": "ad6e6da6-5a21-4e4d-e66d-638e806a9d7d",
        "colab": {
          "base_uri": "https://localhost:8080/"
        }
      },
      "source": [
        "X_traincnn.shape"
      ],
      "execution_count": 60,
      "outputs": [
        {
          "output_type": "execute_result",
          "data": {
            "text/plain": [
              "(787, 30, 1)"
            ]
          },
          "metadata": {
            "tags": []
          },
          "execution_count": 60
        }
      ]
    },
    {
      "cell_type": "code",
      "metadata": {
        "id": "5SJ7AkNyGEAN",
        "outputId": "fd24fe24-c019-4ecc-ec4f-5f269d3d0a42",
        "colab": {
          "base_uri": "https://localhost:8080/"
        }
      },
      "source": [
        "X_testcnn.shape"
      ],
      "execution_count": 61,
      "outputs": [
        {
          "output_type": "execute_result",
          "data": {
            "text/plain": [
              "(197, 30, 1)"
            ]
          },
          "metadata": {
            "tags": []
          },
          "execution_count": 61
        }
      ]
    },
    {
      "cell_type": "code",
      "metadata": {
        "id": "MnXUvJx-GVSy",
        "outputId": "c42cc480-c6e7-4c51-b7bd-073fbb74dd8b",
        "colab": {
          "base_uri": "https://localhost:8080/"
        }
      },
      "source": [
        "from sklearn import metrics\n",
        "from tensorflow.keras.models import Sequential\n",
        "from tensorflow.keras.layers import Dense, Dropout, Flatten\n",
        "from tensorflow.keras.layers import Conv1D, MaxPooling1D\n",
        "from tensorflow.keras.models import Sequential\n",
        "from tensorflow.keras.layers import Dense, Activation\n",
        "from tensorflow.keras.callbacks import EarlyStopping\n",
        "from tensorflow.keras.callbacks import ModelCheckpoint\n",
        "\n",
        "model = Sequential()\n",
        "model.add(Conv1D(filters=64, kernel_size=3, input_shape=(30,1), activation='relu'))\n",
        "model.add(Conv1D(filters=64, kernel_size=3, activation='relu'))\n",
        "model.add(Dropout(0.5))\n",
        "model.add(MaxPooling1D(pool_size=2))\n",
        "model.add(Flatten())\n",
        "#use_bias=True in dense layer\n",
        "model.add(Dense(100, activation='relu', use_bias=True))\n",
        "model.add(Dense(2, activation='softmax', use_bias=True))\n",
        "model.compile(loss='sparse_categorical_crossentropy', optimizer='adam', metrics=['accuracy'])\n",
        "\n",
        "monitor = EarlyStopping(monitor='val_loss', min_delta=1e-3, patience=5, verbose=1, mode='auto')\n",
        "checkpointer = ModelCheckpoint(filepath=\".best_weights.hdf5\", verbose=0, save_best_only=True)\n",
        "model.fit(X_traincnn, y_train,validation_data=(X_testcnn,y_test),callbacks=[monitor,checkpointer],verbose=2,epochs=200)\n",
        "model.load_weights('.best_weights.hdf5')\n",
        "\n",
        "model.summary()"
      ],
      "execution_count": 65,
      "outputs": [
        {
          "output_type": "stream",
          "text": [
            "Epoch 1/200\n",
            "25/25 - 0s - loss: 0.3261 - accuracy: 0.8526 - val_loss: 0.3510 - val_accuracy: 0.8934\n",
            "Epoch 2/200\n",
            "25/25 - 0s - loss: 0.2132 - accuracy: 0.9403 - val_loss: 0.1755 - val_accuracy: 0.9239\n",
            "Epoch 3/200\n",
            "25/25 - 0s - loss: 0.1621 - accuracy: 0.9504 - val_loss: 0.1371 - val_accuracy: 0.9543\n",
            "Epoch 4/200\n",
            "25/25 - 0s - loss: 0.1310 - accuracy: 0.9619 - val_loss: 0.1307 - val_accuracy: 0.9391\n",
            "Epoch 5/200\n",
            "25/25 - 0s - loss: 0.1188 - accuracy: 0.9670 - val_loss: 0.1278 - val_accuracy: 0.9492\n",
            "Epoch 6/200\n",
            "25/25 - 0s - loss: 0.1303 - accuracy: 0.9593 - val_loss: 0.1591 - val_accuracy: 0.9391\n",
            "Epoch 7/200\n",
            "25/25 - 0s - loss: 0.1061 - accuracy: 0.9657 - val_loss: 0.1091 - val_accuracy: 0.9695\n",
            "Epoch 8/200\n",
            "25/25 - 0s - loss: 0.0972 - accuracy: 0.9682 - val_loss: 0.0878 - val_accuracy: 0.9695\n",
            "Epoch 9/200\n",
            "25/25 - 0s - loss: 0.0975 - accuracy: 0.9746 - val_loss: 0.0952 - val_accuracy: 0.9746\n",
            "Epoch 10/200\n",
            "25/25 - 0s - loss: 0.0898 - accuracy: 0.9733 - val_loss: 0.1049 - val_accuracy: 0.9746\n",
            "Epoch 11/200\n",
            "25/25 - 0s - loss: 0.0823 - accuracy: 0.9759 - val_loss: 0.0920 - val_accuracy: 0.9746\n",
            "Epoch 12/200\n",
            "25/25 - 0s - loss: 0.0738 - accuracy: 0.9746 - val_loss: 0.1110 - val_accuracy: 0.9695\n",
            "Epoch 13/200\n",
            "25/25 - 0s - loss: 0.0671 - accuracy: 0.9746 - val_loss: 0.0793 - val_accuracy: 0.9746\n",
            "Epoch 14/200\n",
            "25/25 - 0s - loss: 0.0770 - accuracy: 0.9809 - val_loss: 0.0965 - val_accuracy: 0.9746\n",
            "Epoch 15/200\n",
            "25/25 - 0s - loss: 0.0728 - accuracy: 0.9784 - val_loss: 0.0865 - val_accuracy: 0.9746\n",
            "Epoch 16/200\n",
            "25/25 - 0s - loss: 0.0805 - accuracy: 0.9822 - val_loss: 0.1099 - val_accuracy: 0.9746\n",
            "Epoch 17/200\n",
            "25/25 - 0s - loss: 0.0702 - accuracy: 0.9759 - val_loss: 0.1017 - val_accuracy: 0.9746\n",
            "Epoch 18/200\n",
            "25/25 - 0s - loss: 0.0669 - accuracy: 0.9784 - val_loss: 0.0815 - val_accuracy: 0.9797\n",
            "Epoch 00018: early stopping\n",
            "Model: \"sequential_3\"\n",
            "_________________________________________________________________\n",
            "Layer (type)                 Output Shape              Param #   \n",
            "=================================================================\n",
            "conv1d_6 (Conv1D)            (None, 28, 64)            256       \n",
            "_________________________________________________________________\n",
            "conv1d_7 (Conv1D)            (None, 26, 64)            12352     \n",
            "_________________________________________________________________\n",
            "dropout_3 (Dropout)          (None, 26, 64)            0         \n",
            "_________________________________________________________________\n",
            "max_pooling1d_3 (MaxPooling1 (None, 13, 64)            0         \n",
            "_________________________________________________________________\n",
            "flatten_3 (Flatten)          (None, 832)               0         \n",
            "_________________________________________________________________\n",
            "dense_6 (Dense)              (None, 100)               83300     \n",
            "_________________________________________________________________\n",
            "dense_7 (Dense)              (None, 2)                 202       \n",
            "=================================================================\n",
            "Total params: 96,110\n",
            "Trainable params: 96,110\n",
            "Non-trainable params: 0\n",
            "_________________________________________________________________\n"
          ],
          "name": "stdout"
        }
      ]
    },
    {
      "cell_type": "markdown",
      "metadata": {
        "id": "YdaC1YHaJJB3"
      },
      "source": [
        "Neural Networks"
      ]
    },
    {
      "cell_type": "code",
      "metadata": {
        "id": "mMj1GxAPJLyk",
        "outputId": "30b7f4e6-858b-4b03-b3d1-a9ee9ff4cd42",
        "colab": {
          "base_uri": "https://localhost:8080/"
        }
      },
      "source": [
        "from tensorflow.keras.models import Sequential\n",
        "from tensorflow.keras.layers import Dense, Activation\n",
        "from tensorflow.keras.callbacks import EarlyStopping, ModelCheckpoint\n",
        "model = Sequential()\n",
        "model.add(Dense(64, input_dim=X_train.shape[1], activation='relu'))\n",
        "model.add(Dense(32, activation='relu'))\n",
        "model.add(Dense(1, activation='sigmoid'))\n",
        "\n",
        "model.compile(loss='binary_crossentropy', optimizer='adam', metrics=['accuracy'])\n",
        "\n",
        "monitor = EarlyStopping(monitor='val_loss', min_delta=1e-3, patience=20, \n",
        "                        verbose=2, mode='min')\n",
        "\n",
        "chckpt = ModelCheckpoint(filepath='.weights.hdf5', verbose=1, save_best_only=True)\n",
        "\n",
        "model.fit(X_train,y_train,verbose=2,epochs=200, batch_size=20, \n",
        "          callbacks=[monitor, chckpt], validation_split=0.25)"
      ],
      "execution_count": 68,
      "outputs": [
        {
          "output_type": "stream",
          "text": [
            "Epoch 1/200\n",
            "\n",
            "Epoch 00001: val_loss improved from inf to 0.24586, saving model to .weights.hdf5\n",
            "30/30 - 0s - loss: 0.4064 - accuracy: 0.8627 - val_loss: 0.2459 - val_accuracy: 0.9543\n",
            "Epoch 2/200\n",
            "\n",
            "Epoch 00002: val_loss improved from 0.24586 to 0.17072, saving model to .weights.hdf5\n",
            "30/30 - 0s - loss: 0.2484 - accuracy: 0.9424 - val_loss: 0.1707 - val_accuracy: 0.9594\n",
            "Epoch 3/200\n",
            "\n",
            "Epoch 00003: val_loss improved from 0.17072 to 0.12802, saving model to .weights.hdf5\n",
            "30/30 - 0s - loss: 0.1801 - accuracy: 0.9492 - val_loss: 0.1280 - val_accuracy: 0.9746\n",
            "Epoch 4/200\n",
            "\n",
            "Epoch 00004: val_loss improved from 0.12802 to 0.11297, saving model to .weights.hdf5\n",
            "30/30 - 0s - loss: 0.1497 - accuracy: 0.9576 - val_loss: 0.1130 - val_accuracy: 0.9645\n",
            "Epoch 5/200\n",
            "\n",
            "Epoch 00005: val_loss improved from 0.11297 to 0.11278, saving model to .weights.hdf5\n",
            "30/30 - 0s - loss: 0.1372 - accuracy: 0.9576 - val_loss: 0.1128 - val_accuracy: 0.9695\n",
            "Epoch 6/200\n",
            "\n",
            "Epoch 00006: val_loss improved from 0.11278 to 0.09289, saving model to .weights.hdf5\n",
            "30/30 - 0s - loss: 0.1190 - accuracy: 0.9542 - val_loss: 0.0929 - val_accuracy: 0.9746\n",
            "Epoch 7/200\n",
            "\n",
            "Epoch 00007: val_loss improved from 0.09289 to 0.08588, saving model to .weights.hdf5\n",
            "30/30 - 0s - loss: 0.1064 - accuracy: 0.9610 - val_loss: 0.0859 - val_accuracy: 0.9746\n",
            "Epoch 8/200\n",
            "\n",
            "Epoch 00008: val_loss did not improve from 0.08588\n",
            "30/30 - 0s - loss: 0.1108 - accuracy: 0.9678 - val_loss: 0.0926 - val_accuracy: 0.9746\n",
            "Epoch 9/200\n",
            "\n",
            "Epoch 00009: val_loss improved from 0.08588 to 0.07890, saving model to .weights.hdf5\n",
            "30/30 - 0s - loss: 0.0932 - accuracy: 0.9644 - val_loss: 0.0789 - val_accuracy: 0.9746\n",
            "Epoch 10/200\n",
            "\n",
            "Epoch 00010: val_loss did not improve from 0.07890\n",
            "30/30 - 0s - loss: 0.0887 - accuracy: 0.9695 - val_loss: 0.0803 - val_accuracy: 0.9746\n",
            "Epoch 11/200\n",
            "\n",
            "Epoch 00011: val_loss did not improve from 0.07890\n",
            "30/30 - 0s - loss: 0.0858 - accuracy: 0.9712 - val_loss: 0.0899 - val_accuracy: 0.9848\n",
            "Epoch 12/200\n",
            "\n",
            "Epoch 00012: val_loss did not improve from 0.07890\n",
            "30/30 - 0s - loss: 0.0791 - accuracy: 0.9712 - val_loss: 0.0900 - val_accuracy: 0.9746\n",
            "Epoch 13/200\n",
            "\n",
            "Epoch 00013: val_loss did not improve from 0.07890\n",
            "30/30 - 0s - loss: 0.0788 - accuracy: 0.9729 - val_loss: 0.1150 - val_accuracy: 0.9391\n",
            "Epoch 14/200\n",
            "\n",
            "Epoch 00014: val_loss improved from 0.07890 to 0.07101, saving model to .weights.hdf5\n",
            "30/30 - 0s - loss: 0.0748 - accuracy: 0.9695 - val_loss: 0.0710 - val_accuracy: 0.9797\n",
            "Epoch 15/200\n",
            "\n",
            "Epoch 00015: val_loss did not improve from 0.07101\n",
            "30/30 - 0s - loss: 0.0678 - accuracy: 0.9763 - val_loss: 0.0806 - val_accuracy: 0.9746\n",
            "Epoch 16/200\n",
            "\n",
            "Epoch 00016: val_loss did not improve from 0.07101\n",
            "30/30 - 0s - loss: 0.0664 - accuracy: 0.9763 - val_loss: 0.0738 - val_accuracy: 0.9746\n",
            "Epoch 17/200\n",
            "\n",
            "Epoch 00017: val_loss did not improve from 0.07101\n",
            "30/30 - 0s - loss: 0.0676 - accuracy: 0.9763 - val_loss: 0.0796 - val_accuracy: 0.9746\n",
            "Epoch 18/200\n",
            "\n",
            "Epoch 00018: val_loss improved from 0.07101 to 0.06409, saving model to .weights.hdf5\n",
            "30/30 - 0s - loss: 0.0721 - accuracy: 0.9729 - val_loss: 0.0641 - val_accuracy: 0.9848\n",
            "Epoch 19/200\n",
            "\n",
            "Epoch 00019: val_loss did not improve from 0.06409\n",
            "30/30 - 0s - loss: 0.0696 - accuracy: 0.9763 - val_loss: 0.0788 - val_accuracy: 0.9746\n",
            "Epoch 20/200\n",
            "\n",
            "Epoch 00020: val_loss did not improve from 0.06409\n",
            "30/30 - 0s - loss: 0.0594 - accuracy: 0.9814 - val_loss: 0.0702 - val_accuracy: 0.9797\n",
            "Epoch 21/200\n",
            "\n",
            "Epoch 00021: val_loss did not improve from 0.06409\n",
            "30/30 - 0s - loss: 0.0564 - accuracy: 0.9814 - val_loss: 0.0717 - val_accuracy: 0.9746\n",
            "Epoch 22/200\n",
            "\n",
            "Epoch 00022: val_loss did not improve from 0.06409\n",
            "30/30 - 0s - loss: 0.0569 - accuracy: 0.9797 - val_loss: 0.0705 - val_accuracy: 0.9797\n",
            "Epoch 23/200\n",
            "\n",
            "Epoch 00023: val_loss did not improve from 0.06409\n",
            "30/30 - 0s - loss: 0.0582 - accuracy: 0.9763 - val_loss: 0.0735 - val_accuracy: 0.9746\n",
            "Epoch 24/200\n",
            "\n",
            "Epoch 00024: val_loss did not improve from 0.06409\n",
            "30/30 - 0s - loss: 0.0551 - accuracy: 0.9814 - val_loss: 0.0808 - val_accuracy: 0.9797\n",
            "Epoch 25/200\n",
            "\n",
            "Epoch 00025: val_loss did not improve from 0.06409\n",
            "30/30 - 0s - loss: 0.0554 - accuracy: 0.9814 - val_loss: 0.0812 - val_accuracy: 0.9746\n",
            "Epoch 26/200\n",
            "\n",
            "Epoch 00026: val_loss did not improve from 0.06409\n",
            "30/30 - 0s - loss: 0.0588 - accuracy: 0.9814 - val_loss: 0.0834 - val_accuracy: 0.9797\n",
            "Epoch 27/200\n",
            "\n",
            "Epoch 00027: val_loss did not improve from 0.06409\n",
            "30/30 - 0s - loss: 0.0487 - accuracy: 0.9831 - val_loss: 0.0749 - val_accuracy: 0.9746\n",
            "Epoch 28/200\n",
            "\n",
            "Epoch 00028: val_loss did not improve from 0.06409\n",
            "30/30 - 0s - loss: 0.0499 - accuracy: 0.9831 - val_loss: 0.0822 - val_accuracy: 0.9848\n",
            "Epoch 29/200\n",
            "\n",
            "Epoch 00029: val_loss did not improve from 0.06409\n",
            "30/30 - 0s - loss: 0.0494 - accuracy: 0.9780 - val_loss: 0.0734 - val_accuracy: 0.9695\n",
            "Epoch 30/200\n",
            "\n",
            "Epoch 00030: val_loss did not improve from 0.06409\n",
            "30/30 - 0s - loss: 0.0454 - accuracy: 0.9864 - val_loss: 0.0730 - val_accuracy: 0.9848\n",
            "Epoch 31/200\n",
            "\n",
            "Epoch 00031: val_loss did not improve from 0.06409\n",
            "30/30 - 0s - loss: 0.0457 - accuracy: 0.9831 - val_loss: 0.0746 - val_accuracy: 0.9746\n",
            "Epoch 32/200\n",
            "\n",
            "Epoch 00032: val_loss did not improve from 0.06409\n",
            "30/30 - 0s - loss: 0.0481 - accuracy: 0.9847 - val_loss: 0.0700 - val_accuracy: 0.9848\n",
            "Epoch 33/200\n",
            "\n",
            "Epoch 00033: val_loss did not improve from 0.06409\n",
            "30/30 - 0s - loss: 0.0451 - accuracy: 0.9847 - val_loss: 0.0913 - val_accuracy: 0.9695\n",
            "Epoch 34/200\n",
            "\n",
            "Epoch 00034: val_loss did not improve from 0.06409\n",
            "30/30 - 0s - loss: 0.0476 - accuracy: 0.9864 - val_loss: 0.0666 - val_accuracy: 0.9848\n",
            "Epoch 35/200\n",
            "\n",
            "Epoch 00035: val_loss did not improve from 0.06409\n",
            "30/30 - 0s - loss: 0.0452 - accuracy: 0.9814 - val_loss: 0.0688 - val_accuracy: 0.9797\n",
            "Epoch 36/200\n",
            "\n",
            "Epoch 00036: val_loss did not improve from 0.06409\n",
            "30/30 - 0s - loss: 0.0483 - accuracy: 0.9864 - val_loss: 0.0801 - val_accuracy: 0.9797\n",
            "Epoch 37/200\n",
            "\n",
            "Epoch 00037: val_loss did not improve from 0.06409\n",
            "30/30 - 0s - loss: 0.0392 - accuracy: 0.9864 - val_loss: 0.0768 - val_accuracy: 0.9797\n",
            "Epoch 38/200\n",
            "\n",
            "Epoch 00038: val_loss did not improve from 0.06409\n",
            "30/30 - 0s - loss: 0.0398 - accuracy: 0.9864 - val_loss: 0.0733 - val_accuracy: 0.9797\n",
            "Epoch 00038: early stopping\n"
          ],
          "name": "stdout"
        },
        {
          "output_type": "execute_result",
          "data": {
            "text/plain": [
              "<tensorflow.python.keras.callbacks.History at 0x7f4ddd6aadd8>"
            ]
          },
          "metadata": {
            "tags": []
          },
          "execution_count": 68
        }
      ]
    },
    {
      "cell_type": "code",
      "metadata": {
        "id": "-v7PJUVZJ1xs",
        "outputId": "97d6ee82-dd54-41d8-c471-8c7497c3002e",
        "colab": {
          "base_uri": "https://localhost:8080/"
        }
      },
      "source": [
        "model.summary"
      ],
      "execution_count": 69,
      "outputs": [
        {
          "output_type": "execute_result",
          "data": {
            "text/plain": [
              "<bound method Model.summary of <tensorflow.python.keras.engine.sequential.Sequential object at 0x7f4dde6f3208>>"
            ]
          },
          "metadata": {
            "tags": []
          },
          "execution_count": 69
        }
      ]
    },
    {
      "cell_type": "code",
      "metadata": {
        "id": "XcSCDaMMJ-Hx",
        "outputId": "f6e72466-1a56-403b-96ac-36ae0ddef7f5",
        "colab": {
          "base_uri": "https://localhost:8080/"
        }
      },
      "source": [
        "y_pred = model.predict(X_test)\n",
        "y_pred\n"
      ],
      "execution_count": 70,
      "outputs": [
        {
          "output_type": "execute_result",
          "data": {
            "text/plain": [
              "array([[3.7976503e-03],\n",
              "       [1.0000000e+00],\n",
              "       [1.0094941e-03],\n",
              "       [1.0000000e+00],\n",
              "       [9.9983126e-01],\n",
              "       [2.2114217e-03],\n",
              "       [6.1351061e-04],\n",
              "       [9.9999648e-01],\n",
              "       [1.0000000e+00],\n",
              "       [1.0000000e+00],\n",
              "       [1.4844537e-03],\n",
              "       [9.9999928e-01],\n",
              "       [4.6795309e-03],\n",
              "       [1.7451316e-02],\n",
              "       [9.9999976e-01],\n",
              "       [9.1245770e-04],\n",
              "       [9.9995178e-01],\n",
              "       [9.9996316e-01],\n",
              "       [4.5535266e-03],\n",
              "       [3.2378554e-02],\n",
              "       [2.5197327e-02],\n",
              "       [1.0000000e+00],\n",
              "       [3.9309040e-01],\n",
              "       [9.7634017e-01],\n",
              "       [1.2409985e-03],\n",
              "       [8.2381690e-01],\n",
              "       [6.8232715e-03],\n",
              "       [9.3412399e-04],\n",
              "       [9.9997818e-01],\n",
              "       [1.0000000e+00],\n",
              "       [1.8597528e-01],\n",
              "       [1.0000000e+00],\n",
              "       [1.0000000e+00],\n",
              "       [1.0000000e+00],\n",
              "       [2.8018057e-02],\n",
              "       [4.4539571e-03],\n",
              "       [1.3442934e-03],\n",
              "       [1.2499481e-02],\n",
              "       [1.0859370e-03],\n",
              "       [6.2936544e-04],\n",
              "       [1.1697114e-03],\n",
              "       [9.9999976e-01],\n",
              "       [1.0000000e+00],\n",
              "       [6.9644451e-03],\n",
              "       [1.0000000e+00],\n",
              "       [1.0000000e+00],\n",
              "       [3.4308136e-03],\n",
              "       [1.1137158e-02],\n",
              "       [1.2696683e-02],\n",
              "       [9.9871838e-01],\n",
              "       [9.9979413e-01],\n",
              "       [2.3993179e-01],\n",
              "       [1.0000000e+00],\n",
              "       [9.7462130e-01],\n",
              "       [9.7367167e-04],\n",
              "       [1.7732382e-03],\n",
              "       [1.0000000e+00],\n",
              "       [1.0000000e+00],\n",
              "       [3.3786297e-03],\n",
              "       [1.5420318e-03],\n",
              "       [3.6458671e-03],\n",
              "       [9.9819046e-01],\n",
              "       [3.2397807e-03],\n",
              "       [1.0000000e+00],\n",
              "       [1.0000000e+00],\n",
              "       [9.9980640e-01],\n",
              "       [1.7497540e-03],\n",
              "       [9.8479390e-01],\n",
              "       [9.9908137e-01],\n",
              "       [1.0000000e+00],\n",
              "       [9.9377358e-01],\n",
              "       [6.3004285e-02],\n",
              "       [1.0000000e+00],\n",
              "       [1.0000000e+00],\n",
              "       [9.9999577e-01],\n",
              "       [8.6091757e-03],\n",
              "       [1.0000000e+00],\n",
              "       [5.7249963e-03],\n",
              "       [3.3211291e-02],\n",
              "       [9.9999726e-01],\n",
              "       [9.4375014e-04],\n",
              "       [9.9999416e-01],\n",
              "       [2.1585524e-03],\n",
              "       [3.1384230e-03],\n",
              "       [9.9636841e-01],\n",
              "       [9.9433804e-01],\n",
              "       [1.3893545e-03],\n",
              "       [9.9999398e-01],\n",
              "       [1.0073483e-03],\n",
              "       [1.5979230e-02],\n",
              "       [9.9956638e-01],\n",
              "       [9.5955086e-01],\n",
              "       [9.9991238e-01],\n",
              "       [9.9190933e-01],\n",
              "       [9.2247128e-04],\n",
              "       [9.9997711e-01],\n",
              "       [3.5269797e-02],\n",
              "       [3.1095445e-03],\n",
              "       [4.0392280e-03],\n",
              "       [1.0000000e+00],\n",
              "       [1.2111962e-03],\n",
              "       [1.1526346e-03],\n",
              "       [9.9994570e-01],\n",
              "       [9.9998331e-01],\n",
              "       [1.2906492e-02],\n",
              "       [9.9998003e-01],\n",
              "       [9.9057317e-01],\n",
              "       [2.2226572e-03],\n",
              "       [1.0000000e+00],\n",
              "       [3.3461422e-02],\n",
              "       [1.0000000e+00],\n",
              "       [3.8167238e-02],\n",
              "       [1.1740923e-03],\n",
              "       [1.3501644e-03],\n",
              "       [9.8372489e-01],\n",
              "       [3.1181276e-03],\n",
              "       [5.4442883e-04],\n",
              "       [9.9999583e-01],\n",
              "       [8.8883936e-01],\n",
              "       [2.6074171e-02],\n",
              "       [1.6481280e-03],\n",
              "       [1.0000000e+00],\n",
              "       [9.9999279e-01],\n",
              "       [1.2194812e-03],\n",
              "       [1.7769247e-02],\n",
              "       [1.0000000e+00],\n",
              "       [1.0000000e+00],\n",
              "       [9.6763849e-01],\n",
              "       [9.9999964e-01],\n",
              "       [1.0000000e+00],\n",
              "       [1.1005402e-03],\n",
              "       [7.4377656e-04],\n",
              "       [1.4226973e-02],\n",
              "       [1.2780726e-03],\n",
              "       [1.2398064e-03],\n",
              "       [3.6613643e-03],\n",
              "       [1.1551976e-03],\n",
              "       [9.9999809e-01],\n",
              "       [9.8803818e-01],\n",
              "       [2.6925802e-03],\n",
              "       [9.9999928e-01],\n",
              "       [9.9971670e-01],\n",
              "       [1.0000000e+00],\n",
              "       [1.0000000e+00],\n",
              "       [1.0000000e+00],\n",
              "       [5.4456890e-03],\n",
              "       [9.9997395e-01],\n",
              "       [9.9999976e-01],\n",
              "       [9.9998784e-01],\n",
              "       [5.1812828e-03],\n",
              "       [1.5329719e-03],\n",
              "       [9.9998319e-01],\n",
              "       [3.6198795e-03],\n",
              "       [1.0000000e+00],\n",
              "       [9.9999690e-01],\n",
              "       [1.2965202e-03],\n",
              "       [1.0000000e+00],\n",
              "       [9.9999213e-01],\n",
              "       [9.9680221e-01],\n",
              "       [4.4208169e-03],\n",
              "       [1.0000000e+00],\n",
              "       [7.2497129e-04],\n",
              "       [1.8440485e-03],\n",
              "       [9.9817348e-01],\n",
              "       [7.8389049e-04],\n",
              "       [5.8365643e-02],\n",
              "       [9.3746185e-04],\n",
              "       [3.9113760e-03],\n",
              "       [9.9999213e-01],\n",
              "       [1.0000000e+00],\n",
              "       [2.6177764e-03],\n",
              "       [9.9999321e-01],\n",
              "       [9.9987400e-01],\n",
              "       [1.0610223e-03],\n",
              "       [2.9792249e-01],\n",
              "       [1.4445782e-02],\n",
              "       [1.0000000e+00],\n",
              "       [9.9999821e-01],\n",
              "       [7.5673079e-01],\n",
              "       [9.9984145e-01],\n",
              "       [1.0000000e+00],\n",
              "       [6.7040324e-04],\n",
              "       [1.0000000e+00],\n",
              "       [2.1320879e-03],\n",
              "       [9.9999833e-01],\n",
              "       [1.0362864e-03],\n",
              "       [7.0616007e-03],\n",
              "       [3.6935508e-03],\n",
              "       [2.7701259e-02],\n",
              "       [1.0000000e+00],\n",
              "       [9.6273226e-01],\n",
              "       [9.9999964e-01],\n",
              "       [1.3369024e-03],\n",
              "       [9.9999976e-01],\n",
              "       [1.5899241e-03],\n",
              "       [7.5380504e-02],\n",
              "       [9.9999952e-01]], dtype=float32)"
            ]
          },
          "metadata": {
            "tags": []
          },
          "execution_count": 70
        }
      ]
    },
    {
      "cell_type": "code",
      "metadata": {
        "id": "PtqaeIsGKCBE",
        "outputId": "9c04f58d-59b0-43ba-b9da-5436cb164771",
        "colab": {
          "base_uri": "https://localhost:8080/"
        }
      },
      "source": [
        "#from the y_pred, we will only be considering the one's greater than 0.5\n",
        "argmax = []\n",
        "for val in y_pred:\n",
        "    if val >= 0.5:\n",
        "      argmax.append(1)\n",
        "    else:\n",
        "        argmax.append(0)\n",
        "argmax[:10]"
      ],
      "execution_count": 71,
      "outputs": [
        {
          "output_type": "execute_result",
          "data": {
            "text/plain": [
              "[0, 1, 0, 1, 1, 0, 0, 1, 1, 1]"
            ]
          },
          "metadata": {
            "tags": []
          },
          "execution_count": 71
        }
      ]
    },
    {
      "cell_type": "code",
      "metadata": {
        "id": "Eb_kMuatKNJe",
        "outputId": "759702cd-62cf-4e42-d598-40b610c24c3c",
        "colab": {
          "base_uri": "https://localhost:8080/"
        }
      },
      "source": [
        "from sklearn.metrics import accuracy_score\n",
        "accuracy = accuracy_score(y_test,argmax)\n",
        "print(\"Accuracy for neural network on test set:\", accuracy)"
      ],
      "execution_count": 73,
      "outputs": [
        {
          "output_type": "stream",
          "text": [
            "Accuracy for neural network on test set: 0.9746192893401016\n"
          ],
          "name": "stdout"
        }
      ]
    },
    {
      "cell_type": "code",
      "metadata": {
        "id": "prmgOxwLOMvg",
        "outputId": "4a5ea100-30e1-4201-da6b-1995d5ee69fb",
        "colab": {
          "base_uri": "https://localhost:8080/",
          "height": 343
        }
      },
      "source": [
        "cm = confusion_matrix(y_test, argmax)\n",
        "print(cm)\n",
        "plot_confusion_matrix(cm,['0','1'])"
      ],
      "execution_count": 75,
      "outputs": [
        {
          "output_type": "stream",
          "text": [
            "[[ 91   0]\n",
            " [  5 101]]\n"
          ],
          "name": "stdout"
        },
        {
          "output_type": "display_data",
          "data": {
            "image/png": "[encoded data removed]",
            "text/plain": [
              "<Figure size 432x288 with 2 Axes>"
            ]
          },
          "metadata": {
            "tags": [],
            "needs_background": "light"
          }
        }
      ]
    },
    {
      "cell_type": "code",
      "metadata": {
        "id": "rFCzV8RDOPsW",
        "outputId": "d40c928b-776e-4c40-9c41-17af00864290",
        "colab": {
          "base_uri": "https://localhost:8080/",
          "height": 295
        }
      },
      "source": [
        "plot_roc(argmax,y_test)"
      ],
      "execution_count": 76,
      "outputs": [
        {
          "output_type": "display_data",
          "data": {
            "image/png": "[encoded data removed]",
            "text/plain": [
              "<Figure size 432x288 with 1 Axes>"
            ]
          },
          "metadata": {
            "tags": [],
            "needs_background": "light"
          }
        }
      ]
    },
    {
      "cell_type": "markdown",
      "metadata": {
        "id": "LaimFsXKOXHQ"
      },
      "source": [
        "XGBoost"
      ]
    },
    {
      "cell_type": "code",
      "metadata": {
        "id": "8vooLJEvOZKi"
      },
      "source": [
        "from numpy import loadtxt\n",
        "from xgboost import XGBClassifier\n",
        "from sklearn.model_selection import train_test_split\n",
        "from sklearn.metrics import accuracy_score"
      ],
      "execution_count": 77,
      "outputs": []
    },
    {
      "cell_type": "code",
      "metadata": {
        "id": "hTg0TU9qOe5K",
        "outputId": "8b340966-6c60-455b-d4b3-522496cd7458",
        "colab": {
          "base_uri": "https://localhost:8080/"
        }
      },
      "source": [
        "xgb = XGBClassifier()\n",
        "xgb.fit(X_train, y_train)"
      ],
      "execution_count": 78,
      "outputs": [
        {
          "output_type": "execute_result",
          "data": {
            "text/plain": [
              "XGBClassifier(base_score=0.5, booster='gbtree', colsample_bylevel=1,\n",
              "              colsample_bynode=1, colsample_bytree=1, gamma=0,\n",
              "              learning_rate=0.1, max_delta_step=0, max_depth=3,\n",
              "              min_child_weight=1, missing=None, n_estimators=100, n_jobs=1,\n",
              "              nthread=None, objective='binary:logistic', random_state=0,\n",
              "              reg_alpha=0, reg_lambda=1, scale_pos_weight=1, seed=None,\n",
              "              silent=None, subsample=1, verbosity=1)"
            ]
          },
          "metadata": {
            "tags": []
          },
          "execution_count": 78
        }
      ]
    },
    {
      "cell_type": "code",
      "metadata": {
        "id": "UGjCjgO5OnU9",
        "outputId": "500e1e46-989b-4249-b99a-01fdbcf35d70",
        "colab": {
          "base_uri": "https://localhost:8080/"
        }
      },
      "source": [
        "\n",
        "print(xgb)"
      ],
      "execution_count": 79,
      "outputs": [
        {
          "output_type": "stream",
          "text": [
            "XGBClassifier(base_score=0.5, booster='gbtree', colsample_bylevel=1,\n",
            "              colsample_bynode=1, colsample_bytree=1, gamma=0,\n",
            "              learning_rate=0.1, max_delta_step=0, max_depth=3,\n",
            "              min_child_weight=1, missing=None, n_estimators=100, n_jobs=1,\n",
            "              nthread=None, objective='binary:logistic', random_state=0,\n",
            "              reg_alpha=0, reg_lambda=1, scale_pos_weight=1, seed=None,\n",
            "              silent=None, subsample=1, verbosity=1)\n"
          ],
          "name": "stdout"
        }
      ]
    },
    {
      "cell_type": "code",
      "metadata": {
        "id": "mwoaN4OSOo8X"
      },
      "source": [
        "y_pred = xgb.predict(X_test)\n",
        "predictions = [round(value) for value in y_pred]"
      ],
      "execution_count": 81,
      "outputs": []
    },
    {
      "cell_type": "code",
      "metadata": {
        "id": "t1cnKRAaO0gl",
        "outputId": "d36831b2-e619-4972-a238-b7c4d726480b",
        "colab": {
          "base_uri": "https://localhost:8080/"
        }
      },
      "source": [
        "accuracy = accuracy_score(y_test, predictions)\n",
        "print(\"Accuracy for XGBoost on test set:\", accuracy)"
      ],
      "execution_count": 82,
      "outputs": [
        {
          "output_type": "stream",
          "text": [
            "Accuracy for XGBoost on test set: 0.9796954314720813\n"
          ],
          "name": "stdout"
        }
      ]
    },
    {
      "cell_type": "code",
      "metadata": {
        "id": "Rm4oVMePO5PK",
        "outputId": "bd81b7fb-b66c-41e5-a7bb-7260b7e98d1e",
        "colab": {
          "base_uri": "https://localhost:8080/"
        }
      },
      "source": [
        "print(classification_report(y_test,y_pred))"
      ],
      "execution_count": 83,
      "outputs": [
        {
          "output_type": "stream",
          "text": [
            "              precision    recall  f1-score   support\n",
            "\n",
            "           0       0.96      1.00      0.98        91\n",
            "           1       1.00      0.96      0.98       106\n",
            "\n",
            "    accuracy                           0.98       197\n",
            "   macro avg       0.98      0.98      0.98       197\n",
            "weighted avg       0.98      0.98      0.98       197\n",
            "\n"
          ],
          "name": "stdout"
        }
      ]
    },
    {
      "cell_type": "code",
      "metadata": {
        "id": "vgIAggczPAv5",
        "outputId": "67e76ed8-d098-441f-d20f-e86603c2b8cd",
        "colab": {
          "base_uri": "https://localhost:8080/",
          "height": 343
        }
      },
      "source": [
        "cm = confusion_matrix(y_test, y_pred)\n",
        "print(cm)\n",
        "plot_confusion_matrix(cm,['0','1'])"
      ],
      "execution_count": 84,
      "outputs": [
        {
          "output_type": "stream",
          "text": [
            "[[ 91   0]\n",
            " [  4 102]]\n"
          ],
          "name": "stdout"
        },
        {
          "output_type": "display_data",
          "data": {
            "image/png": "[encoded data removed]",
            "text/plain": [
              "<Figure size 432x288 with 2 Axes>"
            ]
          },
          "metadata": {
            "tags": [],
            "needs_background": "light"
          }
        }
      ]
    },
    {
      "cell_type": "code",
      "metadata": {
        "id": "kfMAHOGzPCnQ",
        "outputId": "2e0a3ff5-fdb0-489c-c954-ab1d8881f66d",
        "colab": {
          "base_uri": "https://localhost:8080/",
          "height": 295
        }
      },
      "source": [
        "\n",
        "plot_roc(y_pred,y_test)"
      ],
      "execution_count": 85,
      "outputs": [
        {
          "output_type": "display_data",
          "data": {
            "image/png": "[encoded data removed]",
            "text/plain": [
              "<Figure size 432x288 with 1 Axes>"
            ]
          },
          "metadata": {
            "tags": [],
            "needs_background": "light"
          }
        }
      ]
    }
  ]
}